{
 "cells": [
  {
   "cell_type": "markdown",
   "id": "fd17d68e86f7a1a7",
   "metadata": {},
   "source": [
    "# Imports"
   ]
  },
  {
   "cell_type": "code",
   "execution_count": null,
   "id": "c39d576ed3d06447",
   "metadata": {},
   "outputs": [],
   "source": [
    "\n",
    "from pathlib import Path\n"
   ]
  },
  {
   "cell_type": "markdown",
   "id": "de0ea424cfb54c67",
   "metadata": {},
   "source": [
    "## Data pre-processing\n",
    "to make the statistical surveys easier,\n",
    "and since we will be comparing the 19 with the 20 Bundestag afterwards, we will make a few adjustments to the data sets:\n",
    "\n",
    "- the merging of BSW and the Left. The BSW split from the Linke at the end of 2023, and would therefore make it more difficult to compare the two electoral periods - this is possible because there is still a strong connection between the two parliamentary groups (see [`ML-Task-1_BSW_Confusion_Experiment`](../ML-Task-1_Classification/ML-Task-1_BSW_Confusion_Experiment.ipynb))\n",
    "- The removal of non-attached MPs: this is important because guests often also speak in the Bundestag, but these speeches cannot be assigned to a parliamentary group and thus distort the result\n",
    "- Removal of presidium/neutral moderation\n",
    "as this could also distort the results as the parliamentary groups which, for example, provide the day's leadership have a significantly higher speaking share"
   ]
  },
  {
   "cell_type": "code",
   "execution_count": null,
   "id": "initial_id",
   "metadata": {},
   "outputs": [],
   "source": [
    "from Preprocessing_Pipeline import execute_parallel_preprocessing\n",
    "from Preprocessing_Pipeline import ensure_required_nlp_resources\n",
    "\n",
    "dataset_configs = {}\n",
    "\n",
    "terms = [19, 20, \"19_20\"]\n",
    "\n",
    "for term in terms:\n",
    "    dataset_configs_curr_term = {\n",
    "        f\"data_set_12, term: {term}\": {\n",
    "            \"input_path\":Path(f\"../..data/dataFinalStage/speechContentFinalStage/speech_content_{term}.pkl\"),\n",
    "            \"output_path_pickle\": Path(f\"../../data/newData/speech_content_{term}.pkl\"),\n",
    "            \"output_path_excel\": Path(f\"../../data/newData/speech_content_{term}.xlsx\"),\n",
    "\n",
    "\n",
    "            # Optional filters (deactivated here)\n",
    "            \"position_short\": [\"Presidium of Parliament\"],  # removes presidium/neutral moderation\n",
    "            \"only_valid_faction_id\": True,\n",
    "            \"without_faction\": 18, # loose Fraktionslos\n",
    "            \"change_faction\": [\"3\", \"7\"], # swap BSW to Die Linke\n",
    "            \"log_prefix\": f\"[data_set_1, Term {term}]\"\n",
    "        }\n",
    "    }\n",
    "    dataset_configs.update(dataset_configs_curr_term)\n",
    "\n"
   ]
  },
  {
   "cell_type": "code",
   "execution_count": null,
   "id": "4a5aef100179f1d5",
   "metadata": {},
   "outputs": [],
   "source": [
    "if __name__ == \"__main__\":\n",
    "    ensure_required_nlp_resources()\n",
    "    execute_parallel_preprocessing(dataset_configs)"
   ]
  }
 ],
 "metadata": {
  "kernelspec": {
   "display_name": "Python 3",
   "language": "python",
   "name": "python3"
  },
  "language_info": {
   "codemirror_mode": {
    "name": "ipython",
    "version": 2
   },
   "file_extension": ".py",
   "mimetype": "text/x-python",
   "name": "python",
   "nbconvert_exporter": "python",
   "pygments_lexer": "ipython2",
   "version": "2.7.6"
  }
 },
 "nbformat": 4,
 "nbformat_minor": 5
}
